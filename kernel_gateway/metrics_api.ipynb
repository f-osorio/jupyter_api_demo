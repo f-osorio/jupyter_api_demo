{
  "nbformat": 4,
  "nbformat_minor": 0,
  "metadata": {
    "colab": {
      "name": "test.ipynb",
      "provenance": [],
      "collapsed_sections": []
    },
    "kernelspec": {
      "name": "python3",
      "display_name": "Python 3"
    }
  },
  "cells": [
    {
      "cell_type": "code",
      "metadata": {
        "id": "P6RdNcX-AqAl",
        "colab_type": "code",
        "colab": {}
      },
      "source": [
        "import json\n",
        "import mysql.connector"
      ],
      "execution_count": 0,
      "outputs": []
    },
    {
      "cell_type": "code",
      "metadata": {
        "id": "VwsPz9T1IxIa",
        "colab_type": "code",
        "colab": {}
      },
      "source": [
        "# Class for DB connection\n",
        "# nothing here\n",
        "class DB:\n",
        "  def __init__(self, user='root', password='root', host='db', db='metrics', port='3306'):\n",
        "    self.user = user\n",
        "    self.password = password\n",
        "    self.host = host\n",
        "    self.db = db\n",
        "    self.port = port\n",
        "  \n",
        "  def __enter__(self):\n",
        "    # Connect to DB and create a cursor\n",
        "    try:\n",
        "      self.conn = mysql.connector.connect(user=self.user, password=self.password,\n",
        "                                   host=self.host, database=self.db,\n",
        "                                   port=self.port)\n",
        "    \n",
        "      self.cur = self.conn.cursor(buffered=True)\n",
        "      return self.cur\n",
        "    except Exception as e:\n",
        "      return f\"Failed to connect to DB: {e}\"\n",
        "\n",
        "  def __exit__(self, type, value, traceback):\n",
        "    self.cur.close()\n",
        "    self.conn.close()\n",
        "\n",
        "# Errors\n",
        "class NotFound(Exception):\n",
        "  def __init__(self, type_name, id):\n",
        "    self.msg = f'There are no item in {type_name} with the id {id}.'\n",
        "\n",
        "class WrongTable(Exception):\n",
        "  def __init__(self, table):\n",
        "    self.msg = f'Check Table name. Couldn\\'t find {table}.'\n",
        "\n",
        "\n",
        "# Helper functions\n",
        "def to_json(cur, data):\n",
        "  json_data = []\n",
        "  row_headers = [x[0] for x in cur.description]\n",
        "  for result in data:\n",
        "    json_data.append(dict(zip(row_headers, result)))\n",
        "  \n",
        "  try:\n",
        "    return json.dumps(json_data)\n",
        "  except Exception:\n",
        "    return json_data\n",
        "\n",
        "\n",
        "def get_obj(table, id):\n",
        "  table = table\n",
        "  db_conn = DB()\n",
        "  with db_conn as db:\n",
        "    field = 'doi'\n",
        "    if table == 'bibliometrics':\n",
        "      field = 'issn1'\n",
        "    q = f\"SELECT * FROM {table} WHERE {field} = '{id}';\"\n",
        "    \n",
        "    try:\n",
        "      db.execute(q)\n",
        "      result = db.fetchall()\n",
        "    except Exception as e:\n",
        "      if e.errno == 1146:\n",
        "        raise WrongTable(table)\n",
        "\n",
        "    if len(result) < 1:\n",
        "      raise NotFound(table, id)\n",
        "\n",
        "    return to_json(db, result)\n",
        "\n",
        "\n",
        "def print_response(response, content_type = 'application/json'):\n",
        "  if content_type == 'application/json':\n",
        "    return {\n",
        "        'success': True,\n",
        "        'data': response\n",
        "    }\n",
        "  else:\n",
        "    return ':('\n",
        "\n",
        "def create_error(code, error_type, message):\n",
        "  return {\n",
        "      'success': False,\n",
        "      'code': code,\n",
        "      'type': error_type,\n",
        "      'message': message\n",
        "  }"
      ],
      "execution_count": 0,
      "outputs": []
    },
    {
      "cell_type": "markdown",
      "metadata": {
        "id": "9W53xrVDK-JL",
        "colab_type": "text"
      },
      "source": [
        "# GET /:table/record/:id\n",
        "*Get JSON record for given item in table*\n",
        "* table (required): the name of the table to query\n",
        "* id (required): the ID of the object. Either doi or ISSN, depending on the table"
      ]
    },
    {
      "cell_type": "code",
      "metadata": {
        "id": "IsYULemYQA1i",
        "colab_type": "code",
        "colab": {}
      },
      "source": [
        "REQUEST = json.dumps({\n",
        "    'path': {\n",
        "        'table': '1',\n",
        "        'id': '1'\n",
        "    }\n",
        "})"
      ],
      "execution_count": 0,
      "outputs": []
    },
    {
      "cell_type": "code",
      "metadata": {
        "id": "WuOzVZ3pIxZQ",
        "colab_type": "code",
        "colab": {}
      },
      "source": [
        "# GET /:table/record/:id\n",
        "try:\n",
        "  req = json.loads(REQUEST)\n",
        "  obj_id = req['path']['id']\n",
        "  table = req['path']['table']\n",
        "  response = print_response(get_obj(table, obj_id))\n",
        "except NotFound as e:\n",
        "  response = create_error(405, 'NotFound', e.msg)\n",
        "except WrongTable as e:\n",
        "  response = create_error(405, 'TableNameError', e.msg)\n",
        "except Exception as e:\n",
        "  response = e.errno\n",
        "finally:\n",
        "  print(response)"
      ],
      "execution_count": 0,
      "outputs": []
    }
  ]
}
